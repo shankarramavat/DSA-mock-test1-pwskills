{
 "cells": [
  {
   "cell_type": "markdown",
   "id": "8812fbdc-48e4-4b7a-87d1-65a3e45a721c",
   "metadata": {},
   "source": [
    "### Given an integer array nums, move all 0's to the end of it while maintaining the relative order of the non-zero elements.\n",
    "### Note that you must do this in-place without making a copy of the array.\n",
    "\n",
    "### Example 1:\n",
    "### Input: nums = [0,1,0,3,12]\n",
    "### Output: [1,3,12,0,0] ###\n",
    "\n",
    "### Example 2:\n",
    "### Input: nums = [0]\n",
    "### Output: [0]\n",
    "\n",
    "### Constraints:\n",
    "### a. 1 <= nums.length <= 10^4\n",
    "### b. -2^31 <= nums[i] <= 2^31 - 1"
   ]
  },
  {
   "cell_type": "code",
   "execution_count": 2,
   "id": "a6028d47-30b7-45fe-8a51-360f6a04b8b9",
   "metadata": {},
   "outputs": [
    {
     "name": "stdout",
     "output_type": "stream",
     "text": [
      "[1, 3, 12, 0, 0]\n"
     ]
    }
   ],
   "source": [
    "def move_zeros(nums):\n",
    "  \n",
    "\n",
    "  i = 0\n",
    "  j = 0\n",
    "  while i < len(nums):\n",
    "    if nums[i] != 0:\n",
    "      nums[j] = nums[i]\n",
    "      j += 1\n",
    "    i += 1\n",
    "\n",
    "  while j < len(nums):\n",
    "    nums[j] = 0\n",
    "    j += 1\n",
    "\n",
    "  return nums\n",
    "\n",
    "\n",
    "def main():\n",
    "  nums = [0, 1, 0, 3, 12]\n",
    "  print(move_zeros(nums))\n",
    "\n",
    "\n",
    "if __name__ == \"__main__\":\n",
    "  main()\n"
   ]
  },
  {
   "cell_type": "markdown",
   "id": "3044c85b-2376-41d7-93b1-134a34beb8bb",
   "metadata": {},
   "source": [
    "### Given a string s, find the first non-repeating character in it and return its index. If it does not exist, return -1.\n",
    "\n",
    "### xample 1:\n",
    "### Input: s = \"leetcode\"\n",
    "### Output: 0\n",
    "\n",
    "### Example 2:\n",
    "### Input: s = \"loveleetcode\"\n",
    "### Output: 2\n",
    "\n",
    "### Example 3:\n",
    "### Input: s = \"aabb\"\n",
    "### Output: -1\n",
    "\n",
    "### Constraints:\n",
    "### a. 1 <= s.length <= 10^5\n",
    "### b. s consists of only lowercase English letters."
   ]
  },
  {
   "cell_type": "code",
   "execution_count": 3,
   "id": "71d16190-fc1d-45e8-954d-6b136abe66aa",
   "metadata": {},
   "outputs": [
    {
     "name": "stdout",
     "output_type": "stream",
     "text": [
      "0\n"
     ]
    }
   ],
   "source": [
    "def first_non_repeating_character(s):\n",
    " \n",
    "\n",
    "  char_counts = {}\n",
    "  for i, char in enumerate(s):\n",
    "    if char not in char_counts:\n",
    "      char_counts[char] = 0\n",
    "    char_counts[char] += 1\n",
    "\n",
    "  for i, char in enumerate(s):\n",
    "    if char_counts[char] == 1:\n",
    "      return i\n",
    "\n",
    "  return -1\n",
    "\n",
    "\n",
    "def main():\n",
    "  s = \"leetcode\"\n",
    "  print(first_non_repeating_character(s))\n",
    "\n",
    "\n",
    "if __name__ == \"__main__\":\n",
    "  main()\n"
   ]
  }
 ],
 "metadata": {
  "kernelspec": {
   "display_name": "Python 3 (ipykernel)",
   "language": "python",
   "name": "python3"
  },
  "language_info": {
   "codemirror_mode": {
    "name": "ipython",
    "version": 3
   },
   "file_extension": ".py",
   "mimetype": "text/x-python",
   "name": "python",
   "nbconvert_exporter": "python",
   "pygments_lexer": "ipython3",
   "version": "3.10.8"
  }
 },
 "nbformat": 4,
 "nbformat_minor": 5
}
